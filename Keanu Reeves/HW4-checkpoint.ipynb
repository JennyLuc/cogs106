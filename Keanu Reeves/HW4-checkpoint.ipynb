{
 "cells": [
  {
   "cell_type": "markdown",
   "metadata": {},
   "source": [
    "# HW4 : A visit to the movie zoo!\n",
    "\n",
    "![](https://vignette.wikia.nocookie.net/bojackhorseman/images/f/f2/HSACWDTK%3FDTKT%3FLFO%21%21.png/revision/latest?cb=20150720050503)"
   ]
  },
  {
   "cell_type": "markdown",
   "metadata": {},
   "source": [
    "## Task\n",
    "In this homework, your task is to visualize THREE non-typical charts on anything related to your favorite **movie star!**\n",
    "This means you CANNOT use the Big 4 chart types or their close variants (i.e. Pie, Bar, Line and Scatter, Area, etc.)\n",
    "\n",
    "You are free to use any other chart type whether or not they were covered in class!\n",
    "The lecture on Visit To The Zoo is a good place to start to get ideas on what kinds of charts exist.\n",
    "\n",
    "For the data, you are free to use any data source you deem fit.\n",
    "For charting, we will NOT be constraining the technology you use. \n",
    "You are free to produce the charts in any way you would like.\n",
    "\n",
    "You will be judged on\n",
    "* Creativity\n",
    "* Presentation Quality\n",
    "* Data Quality (Did your visualization reveal something interesting?)\n",
    "\n",
    "For extra credit, you can make a fully interactive visualization."
   ]
  },
  {
   "cell_type": "markdown",
   "metadata": {},
   "source": [
    "## Ideas for Data Collection\n",
    "\n",
    "Here, we show an example of how to collect data about Arnold Schwarzenegger!\n",
    "Do note that this is just an example of the kind of data you can collect.\n",
    "You are **NOT** constrained\n",
    "* To the same movie star (you can pick your own!)\n",
    "* To the same *kind* of data\n",
    "* To the same data sources\n",
    "* or to anything else!\n",
    "\n",
    "This assignment gives you the power to do what you like!"
   ]
  },
  {
   "cell_type": "code",
   "execution_count": 1,
   "metadata": {
    "ExecuteTime": {
     "end_time": "2019-11-25T22:08:04.263687Z",
     "start_time": "2019-11-25T22:08:03.606043Z"
    }
   },
   "outputs": [],
   "source": [
    "from imdbpie import ImdbFacade\n",
    "from IPython.core.display import display, HTML\n",
    "from bs4 import BeautifulSoup\n",
    "import urllib.request\n",
    "import re"
   ]
  },
  {
   "cell_type": "markdown",
   "metadata": {},
   "source": [
    "#### Get data for Arnold Schwarzenegger"
   ]
  },
  {
   "cell_type": "code",
   "execution_count": 2,
   "metadata": {
    "ExecuteTime": {
     "end_time": "2019-11-25T22:08:05.824745Z",
     "start_time": "2019-11-25T22:08:05.389082Z"
    }
   },
   "outputs": [
    {
     "name": "stdout",
     "output_type": "stream",
     "text": [
      "(NameSearchResult(imdb_id='nm0000206', name='Keanu Reeves'), NameSearchResult(imdb_id='nm2172419', name='Keanna Reeves'), NameSearchResult(imdb_id='nm4474752', name='Keane Reeves'), NameSearchResult(imdb_id='nm2023349', name='François Brun'))\n"
     ]
    }
   ],
   "source": [
    "# Get an instance of IMDb class\n",
    "imdb = ImdbFacade()\n",
    "\n",
    "# Search for Arnold Schwarzenegger\n",
    "people = imdb.search_for_name('Keanu Reeves')\n",
    "print(people)"
   ]
  },
  {
   "cell_type": "code",
   "execution_count": 3,
   "metadata": {
    "ExecuteTime": {
     "end_time": "2019-11-25T22:08:07.739897Z",
     "start_time": "2019-11-25T22:08:06.534659Z"
    }
   },
   "outputs": [
    {
     "name": "stdout",
     "output_type": "stream",
     "text": [
      "bios\n",
      "birth_place\n",
      "date_of_birth\n",
      "filmography\n",
      "gender\n",
      "image\n",
      "imdb_id\n",
      "name\n"
     ]
    }
   ],
   "source": [
    "# Fetch information about him\n",
    "keanu = imdb.get_name(people[0].imdb_id)\n",
    "\n",
    "# What information do I have about him?\n",
    "print('\\n'.join([x for x in dir(keanu) if not x.startswith('__')]))"
   ]
  },
  {
   "cell_type": "code",
   "execution_count": 4,
   "metadata": {
    "ExecuteTime": {
     "end_time": "2019-11-25T22:08:07.766213Z",
     "start_time": "2019-11-25T22:08:07.746863Z"
    }
   },
   "outputs": [
    {
     "name": "stdout",
     "output_type": "stream",
     "text": [
      "381\n"
     ]
    }
   ],
   "source": [
    "# How many movies does he have?\n",
    "print(len(keanu.filmography))"
   ]
  },
  {
   "cell_type": "code",
   "execution_count": 5,
   "metadata": {
    "ExecuteTime": {
     "end_time": "2019-11-25T22:08:12.083494Z",
     "start_time": "2019-11-25T22:08:07.826657Z"
    }
   },
   "outputs": [],
   "source": [
    "# Let's fetch some more information about a movie\n",
    "movie = imdb.get_title(keanu.filmography[-1])"
   ]
  },
  {
   "cell_type": "code",
   "execution_count": 6,
   "metadata": {
    "ExecuteTime": {
     "end_time": "2019-11-25T22:08:12.097879Z",
     "start_time": "2019-11-25T22:08:12.089019Z"
    }
   },
   "outputs": [
    {
     "name": "stdout",
     "output_type": "stream",
     "text": [
      "certification\n",
      "creators\n",
      "credits\n",
      "directors\n",
      "episode\n",
      "episodes\n",
      "genres\n",
      "image\n",
      "imdb_id\n",
      "plot_outline\n",
      "rating\n",
      "rating_count\n",
      "release_date\n",
      "releases\n",
      "runtime\n",
      "season\n",
      "stars\n",
      "title\n",
      "type\n",
      "writers\n",
      "year\n"
     ]
    }
   ],
   "source": [
    "# What information can I get about this movie?\n",
    "print('\\n'.join([x for x in dir(movie) if not x.startswith('__')]))"
   ]
  },
  {
   "cell_type": "code",
   "execution_count": 16,
   "metadata": {
    "ExecuteTime": {
     "end_time": "2019-11-26T02:05:39.729565Z",
     "start_time": "2019-11-26T02:05:36.093793Z"
    }
   },
   "outputs": [
    {
     "data": {
      "text/plain": [
       "Title(imdb_id='tt1086064', title='Bill & Ted Face the Music', type='movie', certification=None, year=2020, genres=('comedy', 'music', 'sci-fi'), writers=(TitleName(name='Chris Matheson', category='writer', imdb_id='nm0558533', job='written by', characters=()), TitleName(name='Ed Solomon', category='writer', imdb_id='nm0004412', job='written by', characters=())), creators=(), credits=(TitleName(name='Robert Benavidez', category='special_effects', imdb_id='nm3723410', job='special effects foreman', characters=()), TitleName(name='Dennis Bodenheimer', category='special_effects', imdb_id='nm1053600', job='special effects technician', characters=()), TitleName(name='Erdwin J. Clausen Jr.', category='special_effects', imdb_id='nm5081072', job='special effects technician', characters=()), TitleName(name='Troy Collins Jr.', category='special_effects', imdb_id='nm8556493', job='on-set foreperson', characters=()), TitleName(name='Troy Collins Jr.', category='special_effects', imdb_id='nm8556493', job='special effects foreman', characters=()), TitleName(name='Ernesto Cornejo', category='special_effects', imdb_id='nm0180141', job='the robot: sculptor', characters=()), TitleName(name='Michael Deak', category='special_effects', imdb_id='nm0212619', job='the robot: project producer', characters=()), TitleName(name='Donnie Dean', category='special_effects', imdb_id='nm3185336', job='special effects coordinator', characters=()), TitleName(name='Santanna Dean', category='special_effects', imdb_id='nm1050257', job='special effects technician', characters=()), TitleName(name='Elias Duhe Jr.', category='special_effects', imdb_id='nm8570088', job='special effects technician', characters=()), TitleName(name='Paul Ferretti', category='special_effects', imdb_id='nm9054357', job='special effects foreman', characters=()), TitleName(name='Ben Goldberg', category='special_effects', imdb_id='nm1098095', job='special effects technician', characters=()), TitleName(name='Gordon Gross', category='special_effects', imdb_id='nm1098095', job='special effects technician', characters=()), TitleName(name='Cleve Gunderman', category='special_effects', imdb_id='nm0348048', job='the robot: project supervisor', characters=()), TitleName(name='Kurt Hilthon', category='special_effects', imdb_id='nm1106389', job='special effects technician', characters=()), TitleName(name='Ashley Kopanski', category='special_effects', imdb_id='nm1053600', job='special effects technician', characters=()), TitleName(name='Matthew James Kutcher', category='special_effects', imdb_id='nm5197668', job='special effects foreman', characters=()), TitleName(name='Vanessa Lee', category='special_effects', imdb_id='nm6167878', job='the robot: lead costume fabricator', characters=()), TitleName(name='Autumn Lewis', category='special_effects', imdb_id='nm1106589', job='the robot: project coordinator', characters=()), TitleName(name='Keith Lore', category='special_effects', imdb_id='nm1106389', job='special effects technician', characters=()), TitleName(name='Chuck Lucia', category='special_effects', imdb_id='nm6617569', job='special effects technician', characters=()), TitleName(name='Michael May', category='special_effects', imdb_id='nm1098094', job='special effects technician', characters=()), TitleName(name='Justin Kane Miller', category='special_effects', imdb_id='nm7008885', job='special effects technician', characters=()), TitleName(name='Miyo Nakamura', category='special_effects', imdb_id='nm3886742', job='the robot: sculptor', characters=()), TitleName(name='RIP Odebralski', category='special_effects', imdb_id='nm0997653', job='special effects technician', characters=()), TitleName(name='Eric Roberts', category='special_effects', imdb_id='nm1106389', job='special effects technician', characters=()), TitleName(name='William Robinson', category='special_effects', imdb_id='nm1106389', job='special effects technician', characters=()), TitleName(name='Mauricio Ruiz', category='special_effects', imdb_id='nm1106589', job='the robot: concept artist', characters=()), TitleName(name='Julia Shah', category='special_effects', imdb_id='nm1106589', job='the robot: digital artist', characters=()), TitleName(name='Steve Wang', category='special_effects', imdb_id='nm0911036', job='the robot: supervising art director', characters=()), TitleName(name='Taylor Weigel', category='special_effects', imdb_id='nm1106389', job='special effects technician', characters=()), TitleName(name='Nicholas Winstead', category='special_effects', imdb_id='nm9887404', job='the robot: sculptor', characters=()), TitleName(name='Nicole Abellera', category='casting_director', imdb_id='nm1125053', job=None, characters=()), TitleName(name='Jeanne McCarthy', category='casting_director', imdb_id='nm0565157', job=None, characters=()), TitleName(name='Leslie Woo', category='casting_director', imdb_id='nm2258940', job=None, characters=()), TitleName(name='Samir Alem', category='miscellaneous', imdb_id='nm1106392', job='set production assistant', characters=()), TitleName(name='Ross Baringer', category='miscellaneous', imdb_id='nm4343576', job='background production assistant', characters=()), TitleName(name='Celina Barnette', category='miscellaneous', imdb_id='nm2272803', job='production coordinator', characters=()), TitleName(name='Carrie Berg', category='miscellaneous', imdb_id='nm1959260', job='accounting clerk', characters=()), TitleName(name='Steve Berman', category='miscellaneous', imdb_id='nm2187024', job='Completion Guarantor', characters=()), TitleName(name='Sara Block', category='miscellaneous', imdb_id='nm6611380', job='cast assistant: keanu reeves', characters=()), TitleName(name='Rusty Bourg', category='miscellaneous', imdb_id='nm7297978', job='robot stand in/death stand in', characters=()), TitleName(name='Jennifer L. Brooks', category='miscellaneous', imdb_id='nm1646804', job='first assistant accountant', characters=()), TitleName(name='Wendy Bushman', category='miscellaneous', imdb_id='nm4753429', job='assistant craft service', characters=()), TitleName(name='Ron Centanni', category='miscellaneous', imdb_id='nm5090072', job='stand-in', characters=()), TitleName(name='Chloe Chaisson', category='miscellaneous', imdb_id='nm5714196', job='Key Craft Services', characters=()), TitleName(name='Kevin Cheatham', category='miscellaneous', imdb_id='nm1099779', job='Stand-In', characters=()), TitleName(name='Chris Clinton', category='miscellaneous', imdb_id='nm2676714', job='cast assistant: alex winter', characters=()), TitleName(name='Sheenan Cole', category='miscellaneous', imdb_id='nm6512372', job='princess joanna photo double', characters=()), TitleName(name='Sheenan Cole', category='miscellaneous', imdb_id='nm6512372', job='thea stand in', characters=()), TitleName(name='Taylor Condit', category='miscellaneous', imdb_id='nm1090901', job='Attorney', characters=()), TitleName(name='Dakota Echeverria', category='miscellaneous', imdb_id='nm1106391', job='assistant craft service', characters=()), TitleName(name='Logan Echeverria', category='miscellaneous', imdb_id='nm1106391', job='assistant craft service', characters=()), TitleName(name='John Flanagan', category='miscellaneous', imdb_id='nm9278338', job='Stand-in', characters=()), TitleName(name='Danny Gonzalez', category='miscellaneous', imdb_id='nm1106391', job='key set production assistant', characters=()), TitleName(name='Ashley Gravley', category='miscellaneous', imdb_id='nm1007818', job='Attorney', characters=()), TitleName(name='Mike Hall', category='miscellaneous', imdb_id='nm1106391', job='second unit set production assistant', characters=()), TitleName(name='Randy Hermann', category='miscellaneous', imdb_id='nm5369919', job='Executive', characters=()), TitleName(name='Vicki V. Johnson', category='miscellaneous', imdb_id='nm0994853', job='studio medic', characters=()), TitleName(name='Chris Jones', category='miscellaneous', imdb_id='nm1106391', job='set medic', characters=()), TitleName(name='Christopher Jones', category='miscellaneous', imdb_id='nm9608622', job='safety advisor', characters=()), TitleName(name='Christopher Jones', category='miscellaneous', imdb_id='nm9608622', job='set medic', characters=()), TitleName(name='Claire Kenny', category='miscellaneous', imdb_id='nm1106392', job='personal assistant: steven soderbergh', characters=()), TitleName(name='Sherman Kew', category='miscellaneous', imdb_id='nm1657752', job='storyboard artist', characters=()), TitleName(name='Nora Kroopf', category='miscellaneous', imdb_id='nm1097993', job='assistant to producers', characters=()), TitleName(name='Marina Pervak Lejsek', category='miscellaneous', imdb_id='nm8556616', job='Completion Guarantor: Film Finances Inc', characters=()), TitleName(name='Hunter McHugh', category='miscellaneous', imdb_id='nm5239257', job='local assistant to mr. reeves', characters=()), TitleName(name='Mike McHugh', category='miscellaneous', imdb_id='nm1106392', job='payroll clerk', characters=()), TitleName(name='Collier Meyer', category='miscellaneous', imdb_id='nm6426457', job='Assistant Production Coordinator', characters=()), TitleName(name='Erica Murphy', category='miscellaneous', imdb_id='nm1106391', job='assistant craft service', characters=()), TitleName(name='Willa Nielsen', category='miscellaneous', imdb_id='nm9636391', job='assistant to mr. parisot', characters=()), TitleName(name='Jekisha Omiyewo', category='miscellaneous', imdb_id='nm3936262', job='accounting clerk', characters=()), TitleName(name='Zac Pendergrass', category='miscellaneous', imdb_id='nm9126549', job='payroll accountant', characters=()), TitleName(name='Brian Plaideau', category='miscellaneous', imdb_id='nm1059640', job='Death photo double/stand in', characters=()), TitleName(name='Cory Reidenouer', category='miscellaneous', imdb_id='nm5052483', job='cast assistant', characters=()), TitleName(name='Jason Robertson', category='miscellaneous', imdb_id='nm1106391', job='craft service', characters=()), TitleName(name='Phillip L. Rosen', category='miscellaneous', imdb_id='nm0742064', job='Attorney', characters=()), TitleName(name='Allison Scott', category='miscellaneous', imdb_id='nm1106392', job='production accountant', characters=()), TitleName(name='Thalia Skaleris', category='miscellaneous', imdb_id='nm8106833', job='basecamp production assistant', characters=()), TitleName(name='Beau Stapleton', category='miscellaneous', imdb_id='nm4234443', job='Attorney', characters=()), TitleName(name='Adam M. Stone', category='miscellaneous', imdb_id='nm0831699', job='product placement', characters=()), TitleName(name='Cat Stone', category='miscellaneous', imdb_id='nm0006719', job='product placement', characters=()), TitleName(name='Adam Sulony', category='miscellaneous', imdb_id='nm5332524', job='production assistant', characters=()), TitleName(name='Andrew Villarreal', category='miscellaneous', imdb_id='nm1106392', job='production assistant', characters=()), TitleName(name='Jonathan Wester', category='miscellaneous', imdb_id='nm4196271', job='Travel Coordinator', characters=()), TitleName(name='Dylan Young', category='miscellaneous', imdb_id='nm1106392', job='office production assistant', characters=()), TitleName(name='Aaron Barsky', category='assistant_director', imdb_id='nm0058291', job='second unit first assistant director', characters=()), TitleName(name='James Madigan', category='assistant_director', imdb_id='nm0534901', job='second unit director', characters=()), TitleName(name='James Roque', category='assistant_director', imdb_id='nm0740653', job='second assistant director', characters=()), TitleName(name='Alexander Salazar', category='assistant_director', imdb_id='nm4264029', job='additional second assistant director', characters=()), TitleName(name='David Sardi', category='assistant_director', imdb_id='nm0764979', job='first assistant director', characters=()), TitleName(name='Jonathan M. Warren', category='assistant_director', imdb_id='nm3309005', job='second second assistant director', characters=()), TitleName(name='Eric Scott Williamson', category='assistant_director', imdb_id='nm2047861', job='second unit', characters=()), TitleName(name='Shelly Johnson', category='cinematographer', imdb_id='nm0426224', job=None, characters=()), TitleName(name='Jason La Rocca', category='music_department', imdb_id='nm1103924', job='music scoring mixer', characters=()), TitleName(name='Jonathan Leahy', category='music_department', imdb_id='nm2939367', job='music supervisor', characters=()), TitleName(name='Ashley Waldron', category='music_department', imdb_id='nm1027472', job='Executive in Charge of Music', characters=()), TitleName(name='Ashley Waldron', category='music_department', imdb_id='nm1027472', job='music executive', characters=()), TitleName(name='Keanu Reeves', category='actor', imdb_id='nm0000206', job=None, characters=()), TitleName(name='Samara Weaving', category='actress', imdb_id='nm3034977', job=None, characters=()), TitleName(name='Brigette Lundy-Paine', category='actress', imdb_id='nm6617420', job=None, characters=()), TitleName(name='Jillian Bell', category='actress', imdb_id='nm3255459', job=None, characters=()), TitleName(name='Kristen Schaal', category='actress', imdb_id='nm1102891', job=None, characters=()), TitleName(name='Holland Taylor', category='actress', imdb_id='nm0852466', job=None, characters=()), TitleName(name='Jayma Mays', category='actress', imdb_id='nm1724323', job=None, characters=()), TitleName(name='Anthony Carrigan', category='actor', imdb_id='nm2810593', job=None, characters=()), TitleName(name='William Sadler', category='actor', imdb_id='nm0006669', job=None, characters=()), TitleName(name='Alex Winter', category='actor', imdb_id='nm0935664', job=None, characters=()), TitleName(name='Erinn Hayes', category='actress', imdb_id='nm0141613', job=None, characters=()), TitleName(name='Beck Bennett', category='actor', imdb_id='nm3080722', job=None, characters=()), TitleName(name='Kid Cudi', category='actor', imdb_id='nm3264596', job=None, characters=()), TitleName(name='Amy Stoch', category='actress', imdb_id='nm0830757', job=None, characters=()), TitleName(name='Patti Brindley', category='actress', imdb_id='nm8535506', job=None, characters=()), TitleName(name='Hal Landon Jr.', category='actor', imdb_id='nm0484900', job=None, characters=()), TitleName(name='Billy Slaughter', category='actor', imdb_id='nm1551999', job=None, characters=()), TitleName(name='Al Vicente', category='actor', imdb_id='nm0015673', job=None, characters=()), TitleName(name='Nicolas Bosc', category='actor', imdb_id='nm3863233', job=None, characters=()), TitleName(name='Xavier Leblanc', category='actor', imdb_id='nm5970238', job=None, characters=()), TitleName(name='Cynthia LeBlanc', category='actress', imdb_id='nm1897496', job=None, characters=()), TitleName(name='Angela Abadie', category='self', imdb_id='nm1076397', job=None, characters=()), TitleName(name='Elton LeBlanc', category='actor', imdb_id='nm1891863', job=None, characters=()), TitleName(name='William Buster Benefield', category='actor', imdb_id='nm1014722', job=None, characters=()), TitleName(name='Chad Crawford', category='actor', imdb_id='nm4592717', job=None, characters=()), TitleName(name='Austin Fillmore', category='actor', imdb_id='nm1092403', job=None, characters=()), TitleName(name='Candice Richardson', category='actress', imdb_id='nm7650245', job=None, characters=()), TitleName(name='Nick Breaux', category='actor', imdb_id='nm1074014', job=None, characters=()), TitleName(name='Michael Biss', category='actor', imdb_id='nm1065927', job=None, characters=()), TitleName(name='Gordon Dexheimer', category='actor', imdb_id='nm2246307', job=None, characters=()), TitleName(name='Doug Gagnon', category='actor', imdb_id='nm4742319', job=None, characters=()), TitleName(name='Robert Masters', category='actor', imdb_id='nm6216446', job=None, characters=()), TitleName(name='Selina van den Brink', category='set_decorator', imdb_id='nm1709666', job=None, characters=()), TitleName(name='Zak Faust', category='art_director', imdb_id='nm5041747', job=None, characters=()), TitleName(name='Jennifer Starzyk', category='costume_designer', imdb_id='nm0823676', job=None, characters=()), TitleName(name='Greeley Adler', category='camera_department', imdb_id='nm6027471', job='fixtures foreman', characters=()), TitleName(name='Troy Benjamin', category='camera_department', imdb_id='nm1106586', job='video assist', characters=()), TitleName(name='Zachary Blosser', category='camera_department', imdb_id='nm3954538', job='additional first assistant camera', characters=()), TitleName(name=\"Mike 'Big Mike' Bonnet\", category='camera_department', imdb_id='nm2337190', job='rigging grip', characters=()), TitleName(name='Eliot Brasseaux', category='camera_department', imdb_id='nm3760301', job='electrician', characters=()), TitleName(name='Craig Bridges', category='camera_department', imdb_id='nm5824198', job='rigging electrician', characters=()), TitleName(name='Dwayne Joseph Brown', category='camera_department', imdb_id='nm1106388', job='rigging electrician', characters=()), TitleName(name='Curt Burlin', category='camera_department', imdb_id='nm1106586', job='rigging grip', characters=()), TitleName(name='Luke Cauthern', category='camera_department', imdb_id='nm3085700', job='\"a\" camera dolly grip', characters=()), TitleName(name='Luke Cauthern', category='camera_department', imdb_id='nm3085700', job='dolly grip', characters=()), TitleName(name='Chad Chamberlain', category='camera_department', imdb_id='nm4541849', job='\"b\" camera/steadicam operator', characters=()), TitleName(name='Ryan Chamberlain', category='camera_department', imdb_id='nm4689948', job='grip', characters=()), TitleName(name='Dylan Coates', category='camera_department', imdb_id='nm1806883', job='grip', characters=()), TitleName(name='Richard F. Creedon', category='camera_department', imdb_id='nm6204068', job='rigging grip', characters=()), TitleName(name='Larry Dorsey Jr.', category='camera_department', imdb_id='nm3113664', job='rigging best boy electric', characters=()), TitleName(name='David Easley', category='camera_department', imdb_id='nm4022420', job='rigging grip', characters=()), TitleName(name='John Gregory Edwards', category='camera_department', imdb_id='nm3151978', job='rigging electrician', characters=()), TitleName(name='Joshua Ermon', category='camera_department', imdb_id='nm1098086', job='grip', characters=()), TitleName(name='Michael Feduccia', category='camera_department', imdb_id='nm3612703', job='scorpio head technician', characters=()), TitleName(name='Taylor Fenno', category='camera_department', imdb_id='nm4693911', job='first assistant camera: \"c\" camera', characters=()), TitleName(name='Bradley Floyd', category='camera_department', imdb_id='nm2542804', job='electrician', characters=()), TitleName(name='Jonathan Fontenot', category='camera_department', imdb_id='nm1106586', job='second unit second assistant camera', characters=()), TitleName(name='Nathan Fung', category='camera_department', imdb_id='nm3868078', job='grip', characters=()), TitleName(name='Jorge German', category='camera_department', imdb_id='nm1106389', job='second unit video assist', characters=()), TitleName(name='Jorge Luis German', category='camera_department', imdb_id='nm3890617', job='Video Assist Operator 2nd unit', characters=()), TitleName(name='Andre Green', category='camera_department', imdb_id='nm2847286', job='rigging gaffer', characters=()), TitleName(name='Dallas Hollomon', category='camera_department', imdb_id='nm4274989', job='grip', characters=()), TitleName(name='Richard Hoover', category='camera_department', imdb_id='nm1106389', job='grip', characters=()), TitleName(name='Casey Hotchkiss', category='camera_department', imdb_id='nm0396219', job='A Camera', characters=()), TitleName(name='Casey Hotchkiss', category='camera_department', imdb_id='nm0396219', job='camera operator', characters=()), TitleName(name='Deantray Hughes', category='camera_department', imdb_id='nm1106388', job='rigging electrician', characters=()), TitleName(name='Nathan Hughes', category='camera_department', imdb_id='nm5776540', job='grip', characters=()), TitleName(name='Joe Iverson', category='camera_department', imdb_id='nm1348708', job='2nd Unit Gaffer', characters=()), TitleName(name='Derel Johnson', category='camera_department', imdb_id='nm1106388', job='rigging electrician', characters=()), TitleName(name='Ryosuke Kawanaka', category='camera_department', imdb_id='nm2653474', job='first assistant camera: \"b\" camera', characters=()), TitleName(name='Michael D. Kennedy', category='camera_department', imdb_id='nm1348717', job='scorpio head operator', characters=()), TitleName(name='James Langdon', category='camera_department', imdb_id='nm5997163', job='electrician', characters=()), TitleName(name='Adam Lipscomb', category='camera_department', imdb_id='nm4979632', job='digital loader', characters=()), TitleName(name='Patrick Loungway', category='camera_department', imdb_id='nm0522018', job='Director Of Photography: second unit', characters=()), TitleName(name='Kevin Luster', category='camera_department', imdb_id='nm4963798', job='grip', characters=()), TitleName(name='Bradley Martin', category='camera_department', imdb_id='nm1936346', job='best boy electric', characters=()), TitleName(name='Thomas McGovern', category='camera_department', imdb_id='nm1106388', job='electrician', characters=()), TitleName(name='Michael McLaughlin', category='camera_department', imdb_id='nm1106388', job='gaffer', characters=()), TitleName(name='Latasha Monroe', category='camera_department', imdb_id='nm1106388', job='rigging electrician', characters=()), TitleName(name='Greg Morris', category='camera_department', imdb_id='nm0606572', job='additional camera operator', characters=()), TitleName(name='Joseph Paolucci Jr.', category='camera_department', imdb_id='nm2142776', job='fixtures foreman', characters=()), TitleName(name='Max Patrucco', category='camera_department', imdb_id='nm3754772', job='key rigging grip', characters=()), TitleName(name='Patti Perret', category='camera_department', imdb_id='nm0674604', job='still photographer', characters=()), TitleName(name='Brad Peterman', category='camera_department', imdb_id='nm0676282', job='first assistant camera: \"a\" camera', characters=()), TitleName(name='Eric Ritter', category='camera_department', imdb_id='nm1106388', job='grip', characters=()), TitleName(name='Shane Ruggles', category='camera_department', imdb_id='nm9052883', job='rigging electrician', characters=()), TitleName(name='Jimi Ryan', category='camera_department', imdb_id='nm0752614', job='key grip', characters=()), TitleName(name='Rigney Sackley', category='camera_department', imdb_id='nm0755275', job='second assistant camera', characters=()), TitleName(name='Joe Sökmen', category='camera_department', imdb_id='nm3247753', job='b dolly grip', characters=()), TitleName(name='Daniel Waghorne', category='camera_department', imdb_id='nm3605391', job='remote head technician', characters=()), TitleName(name='Charles B. Walker', category='camera_department', imdb_id='nm1648906', job='bestboy rigging grip', characters=()), TitleName(name='Jordan Whaley', category='camera_department', imdb_id='nm3317211', job='lighting console programmer', characters=()), TitleName(name='Zander White', category='camera_department', imdb_id='nm6550676', job='second assistant camera: A camera', characters=()), TitleName(name='Davaughn Williams II', category='camera_department', imdb_id='nm1106389', job='grip', characters=()), TitleName(name='Kevin Williams', category='camera_department', imdb_id='nm1106388', job='rigging electrician', characters=()), TitleName(name='Dan Wyssmann', category='camera_department', imdb_id='nm3521707', job='best boy grip', characters=()), TitleName(name='Leroy Zeno Jr.', category='camera_department', imdb_id='nm1106388', job='rigging electrician', characters=()), TitleName(name='Don Zimmerman', category='editor', imdb_id='nm0956699', job=None, characters=()), TitleName(name='Travis C. Acosta', category='art_department', imdb_id='nm8120414', job='set dresser', characters=()), TitleName(name='Genevieve Bamburg', category='art_department', imdb_id='nm1106387', job='painter', characters=()), TitleName(name='Johnny Barksdale', category='art_department', imdb_id='nm6279579', job='propmaker', characters=()), TitleName(name='Dana Beahler', category='art_department', imdb_id='nm1106387', job='sculptor', characters=()), TitleName(name='Kenneth Bellmyer', category='art_department', imdb_id='nm1106387', job='painter', characters=()), TitleName(name='William Boyle', category='art_department', imdb_id='nm1106387', job='painter', characters=()), TitleName(name='Alfonso Bradley', category='art_department', imdb_id='nm6279648', job='set dresser', characters=()), TitleName(name='Brande Brown', category='art_department', imdb_id='nm1106387', job='painter', characters=()), TitleName(name='Korey Brown', category='art_department', imdb_id='nm1106584', job='construction utility', characters=()), TitleName(name='Kris Butler', category='art_department', imdb_id='nm3189163', job='construction medic', characters=()), TitleName(name='Dedric Cain', category='art_department', imdb_id='nm6279647', job='set dresser', characters=()), TitleName(name='Erik Carpenter', category='art_department', imdb_id='nm1106388', job='sculptor', characters=()), TitleName(name='Jason Chaffin', category='art_department', imdb_id='nm4555426', job='sculptor', characters=()), TitleName(name='Daniel Coe', category='art_department', imdb_id='nm2363447', job='construction coordinator', characters=()), TitleName(name='Iggie Colomer', category='art_department', imdb_id='nm4240737', job='gang boss', characters=()), TitleName(name='Justin Bruce Trevor Comiskey', category='art_department', imdb_id='nm7658889', job='propmaker', characters=()), TitleName(name='Michael Dares', category='art_department', imdb_id='nm2422916', job='leadman', characters=()), TitleName(name='Shannon de Vergnette', category='art_department', imdb_id='nm5119365', job='assistant art director', characters=()), TitleName(name='Chad Dellinger', category='art_department', imdb_id='nm6627884', job='model maker', characters=()), TitleName(name='Tim Dodge', category='art_department', imdb_id='nm3065915', job='set dresser', characters=()), TitleName(name='Richard Dorrity', category='art_department', imdb_id='nm1106584', job='propmaker', characters=()), TitleName(name='Everette Eglin', category='art_department', imdb_id='nm1519964', job='buyer', characters=()), TitleName(name='Nicholas Ellerbee', category='art_department', imdb_id='nm5601472', job='General Foreman', characters=()), TitleName(name='Lucien Fernandez', category='art_department', imdb_id='nm1244563', job='props', characters=()), TitleName(name='Jason Fraude', category='art_department', imdb_id='nm4404582', job='greensman', characters=()), TitleName(name='Ricardo Don Fredricks', category='art_department', imdb_id='nm1106387', job='painter', characters=()), TitleName(name='James Fucciolo', category='art_department', imdb_id='nm1106585', job='on set greens', characters=()), TitleName(name='Jeremy Grannan', category='art_department', imdb_id='nm1106587', job='set dresser', characters=()), TitleName(name='Claire Gryce', category='art_department', imdb_id='nm8587695', job='On set dresser', characters=()), TitleName(name='Shaynna Gueno', category='art_department', imdb_id='nm1106387', job='painter', characters=()), TitleName(name='Joseph Guerriero', category='art_department', imdb_id='nm1106387', job='sculptor', characters=()), TitleName(name='John Guillory', category='art_department', imdb_id='nm1036227', job='sculptor', characters=()), TitleName(name='Luke Hammond', category='art_department', imdb_id='nm1106585', job='propmaker', characters=()), TitleName(name='Greg Harney', category='art_department', imdb_id='nm6017690', job='gang boss', characters=()), TitleName(name='Allison Hilder', category='art_department', imdb_id='nm5351396', job='props', characters=()), TitleName(name='Erik Jon Holmberg', category='art_department', imdb_id='nm1106584', job='propmaker', characters=()), TitleName(name='Nicholas Jimenez', category='art_department', imdb_id='nm1106585', job='construction utility', characters=()), TitleName(name='Edward Johnson', category='art_department', imdb_id='nm1106585', job='propmaker', characters=()), TitleName(name='Vicki V. Johnson', category='art_department', imdb_id='nm0994853', job='construction medic', characters=()), TitleName(name='Charlotte Jones', category='art_department', imdb_id='nm1074561', job='Set Dec Coordinator', characters=()), TitleName(name='Melanie Jones', category='art_department', imdb_id='nm0656995', job='Production Designer', characters=()), TitleName(name='Adie Kaplan', category='art_department', imdb_id='nm6023470', job='set designer', characters=()), TitleName(name='Carl Kempf', category='art_department', imdb_id='nm5998868', job='plaster foreman', characters=()), TitleName(name='Sherman Kew', category='art_department', imdb_id='nm1657752', job='storyboard artist', characters=()), TitleName(name='Kyle King', category='art_department', imdb_id='nm1106585', job='construction utility', characters=()), TitleName(name='Daniel Kirschner', category='art_department', imdb_id='nm1344054', job='sculptor', characters=()), TitleName(name='Joseph Lauricella', category='art_department', imdb_id='nm5998866', job='construction utility', characters=()), TitleName(name='Ian Mayronne', category='art_department', imdb_id='nm1106586', job='greensman', characters=()), TitleName(name='David Blair Merry', category='art_department', imdb_id='nm1106585', job='key greens man', characters=()), TitleName(name='William Miller', category='art_department', imdb_id='nm1106386', job='shop foreman', characters=()), TitleName(name='Kip Morse', category='art_department', imdb_id='nm1106585', job='propmaker', characters=()), TitleName(name='Christopher Nicaud', category='art_department', imdb_id='nm1106584', job='propmaker', characters=()), TitleName(name='Jorin Ostroska', category='art_department', imdb_id='nm0652511', job='property master', characters=()), TitleName(name='Nicole Joubert Pazos', category='art_department', imdb_id='nm0431060', job='Art Department Coordinator', characters=()), TitleName(name='Todd Pecoul', category='art_department', imdb_id='nm8743705', job='set dresser', characters=()), TitleName(name='Ashton Pierce', category='art_department', imdb_id='nm1106585', job='construction utility', characters=()), TitleName(name='Ellis Powell', category='art_department', imdb_id='nm6262505', job='set dresser', characters=()), TitleName(name='Jayna Puchkoff', category='art_department', imdb_id='nm6346518', job='set decoration production assistant', characters=()), TitleName(name='Adam Robbins', category='art_department', imdb_id='nm1106387', job='gangboss', characters=()), TitleName(name='Mauricio Ruiz', category='art_department', imdb_id='nm3157694', job='concept artist', characters=()), TitleName(name='Catie Scorsone', category='art_department', imdb_id='nm9058154', job='props production assistant', characters=()), TitleName(name='David Sessum', category='art_department', imdb_id='nm1106584', job='propmaker', characters=()), TitleName(name='Floyd Shepard', category='art_department', imdb_id='nm1106587', job='set dresser', characters=()), TitleName(name='Joe Skinner', category='art_department', imdb_id='nm1094827', job='props', characters=()), TitleName(name='Wayne Softley Jr.', category='art_department', imdb_id='nm3042183', job='scenic foreman', characters=()), TitleName(name='Noah Starcher', category='art_department', imdb_id='nm7837801', job='construction utility', characters=()), TitleName(name='Clayton Stephens', category='art_department', imdb_id='nm1106584', job='sculptor', characters=()), TitleName(name='Smith Stickney', category='art_department', imdb_id='nm1078754', job='props', characters=()), TitleName(name='Jessica Taylor', category='art_department', imdb_id='nm6586902', job='Set Dec Buyer', characters=()), TitleName(name='Karl Tear', category='art_department', imdb_id='nm1074907', job='art department assistant', characters=()), TitleName(name='Susan Thompson', category='art_department', imdb_id='nm1106387', job='painter', characters=()), TitleName(name='Philip Toolin', category='art_department', imdb_id='nm0867505', job='set designer', characters=()), TitleName(name='David Warburton', category='art_department', imdb_id='nm1722009', job='assistant property master', characters=()), TitleName(name='David O. Whatley', category='art_department', imdb_id='nm5916293', job='sculptor/plasterer', characters=()), TitleName(name='Jeremy Williams', category='art_department', imdb_id='nm1106587', job='set dresser', characters=()), TitleName(name='Jason Wilson', category='art_department', imdb_id='nm1106585', job='construction utility', characters=()), TitleName(name='Paige Winburne', category='art_department', imdb_id='nm6452666', job='art department coordinator', characters=()), TitleName(name='Evan Yarbrough', category='art_department', imdb_id='nm7343998', job='storyboard artist', characters=()), TitleName(name='Jacob Seth Yates', category='art_department', imdb_id='nm1106585', job='construction utility', characters=()), TitleName(name='David Bush', category='script_department', imdb_id='nm3650518', job='script supervisor: second unit', characters=()), TitleName(name='David Bush', category='script_department', imdb_id='nm1106391', job='second unit script supervisor', characters=()), TitleName(name='Sandy Parker', category='script_department', imdb_id='nm0662605', job='script supervisor: 2nd unit', characters=()), TitleName(name='Mary Frances Perlander', category='script_department', imdb_id='nm1106391', job='script supervisor', characters=()), TitleName(name='Dean Parisot', category='director', imdb_id='nm0661751', job=None, characters=()), TitleName(name='Mark Isham', category='composer', imdb_id='nm0006142', job=None, characters=()), TitleName(name='Matthew Armstrong', category='sound_department', imdb_id='nm0035824', job='sound utility', characters=()), TitleName(name='Ryan Farris', category='sound_department', imdb_id='nm2502421', job='boom operator', characters=()), TitleName(name='Donovan Thibodeaux', category='sound_department', imdb_id='nm4247116', job='sound utility: additional', characters=()), TitleName(name='Chris Welcker', category='sound_department', imdb_id='nm2597982', job='production sound mixer', characters=()), TitleName(name='Kevin Banks', category='transportation_department', imdb_id='nm5381019', job='driver', characters=()), TitleName(name='Windell Bean', category='transportation_department', imdb_id='nm5949058', job='driver', characters=()), TitleName(name='Carlos Beguiristain', category='transportation_department', imdb_id='nm9351233', job='driver', characters=()), TitleName(name='Oscar Beguiristain', category='transportation_department', imdb_id='nm0066825', job='transportation coordinator', characters=()), TitleName(name='David Bentley', category='transportation_department', imdb_id='nm7659150', job='driver', characters=()), TitleName(name='Randy Brown', category='transportation_department', imdb_id='nm1106390', job='driver', characters=()), TitleName(name='Gerard Callahan III', category='transportation_department', imdb_id='nm1087313', job='driver', characters=()), TitleName(name='Gerard Callahan Jr.', category='transportation_department', imdb_id='nm3275940', job='transportation captain', characters=()), TitleName(name='Truett Chapman Jr.', category='transportation_department', imdb_id='nm1056430', job='picture car assistant', characters=()), TitleName(name='Charles Edgefield', category='transportation_department', imdb_id='nm1106390', job='driver', characters=()), TitleName(name='Robert Gilmore', category='transportation_department', imdb_id='nm1087314', job='driver', characters=()), TitleName(name='Kenneth Gockley', category='transportation_department', imdb_id='nm1106390', job='picture car assistant', characters=()), TitleName(name='Robert LaRose', category='transportation_department', imdb_id='nm5435032', job='driver', characters=()), TitleName(name='Corinne Lorio', category='transportation_department', imdb_id='nm1106390', job='transportation office assistant', characters=()), TitleName(name='Roosevelt May', category='transportation_department', imdb_id='nm5086687', job='driver', characters=()), TitleName(name='Roberto McCloud', category='transportation_department', imdb_id='nm7076992', job='driver', characters=()), TitleName(name='Curtis McMillian', category='transportation_department', imdb_id='nm1106390', job='driver', characters=()), TitleName(name='Warren Metoyer', category='transportation_department', imdb_id='nm1106390', job='driver', characters=()), TitleName(name='Terri Morris', category='transportation_department', imdb_id='nm1106390', job='picture car assistant', characters=()), TitleName(name='Timothy Morris', category='transportation_department', imdb_id='nm1056430', job='picture car coordinator', characters=()), TitleName(name='Donald Raymond', category='transportation_department', imdb_id='nm7382919', job='driver', characters=()), TitleName(name='Tony Ruiz', category='transportation_department', imdb_id='nm0749948', job='transportation coordinator', characters=()), TitleName(name='Scott Sanders', category='transportation_department', imdb_id='nm1087313', job='driver', characters=()), TitleName(name='Eric Sanford', category='transportation_department', imdb_id='nm1066696', job='driver', characters=()), TitleName(name='Roy Skaggs', category='transportation_department', imdb_id='nm1698397', job='driver', characters=()), TitleName(name='Terence Smith', category='transportation_department', imdb_id='nm1106390', job='driver', characters=()), TitleName(name='Steve Smitherman', category='transportation_department', imdb_id='nm1764538', job='driver', characters=()), TitleName(name='George Steiner', category='transportation_department', imdb_id='nm1087313', job='driver', characters=()), TitleName(name='Terence Stewart', category='transportation_department', imdb_id='nm4973026', job='driver', characters=()), TitleName(name='Melvin Theriot', category='transportation_department', imdb_id='nm2859992', job='driver', characters=()), TitleName(name='Adriane Williams', category='transportation_department', imdb_id='nm5085455', job='driver', characters=()), TitleName(name='Brock Williams', category='transportation_department', imdb_id='nm1106390', job='driver', characters=()), TitleName(name='Brent Caballero', category='casting_department', imdb_id='nm2720553', job='location casting', characters=()), TitleName(name='Charlotte Gale', category='casting_department', imdb_id='nm4857047', job='local casting assistant', characters=()), TitleName(name='Rebecca Wyman', category='casting_department', imdb_id='nm9906703', job='casting assistant', characters=()), TitleName(name='Seannon Stracener', category='casting_department', imdb_id='nm7366139', job='Location extra casting researcher', characters=()), TitleName(name='Max Magbee', category='editorial_department', imdb_id='nm3530820', job='nextLAB Operator', characters=()), TitleName(name='Michael Masson', category='editorial_department', imdb_id='nm4489544', job='dailies producer', characters=()), TitleName(name='Richard Sanchez', category='editorial_department', imdb_id='nm2834161', job='VFX Editor', characters=()), TitleName(name='David Zimmerman', category='editorial_department', imdb_id='nm1678347', job='first assistant editor', characters=()), TitleName(name='Ted Barba', category='stunts', imdb_id='nm0053160', job='utility stunts', characters=()), TitleName(name='Tim Bell', category='stunts', imdb_id='nm1419241', job='assistant stunt coordinator', characters=()), TitleName(name='Tim Bell', category='stunts', imdb_id='nm1419241', job='prison guard', characters=()), TitleName(name='Tim Bell', category='stunts', imdb_id='nm1419241', job='stunt actor', characters=()), TitleName(name='Tim Bell', category='stunts', imdb_id='nm1419241', job='stunt double: logan', characters=()), TitleName(name='Todd Bloomer', category='stunts', imdb_id='nm1677389', job='stunt actor: astronaut', characters=()), TitleName(name='Todd Bloomer', category='stunts', imdb_id='nm1677389', job='stunt performer', characters=()), TitleName(name='Nicolas Bosc', category='stunts', imdb_id='nm3863233', job='stunt actor: caveman', characters=()), TitleName(name='Nicolas Bosc', category='stunts', imdb_id='nm3863233', job='stunt double: Keanu Reeves', characters=()), TitleName(name='Nicolas Bosc', category='stunts', imdb_id='nm3863233', job='stunt double: ted', characters=()), TitleName(name='Sean Paul Braud', category='stunts', imdb_id='nm3762501', job='stunt driver', characters=()), TitleName(name='Sean Paul Braud', category='stunts', imdb_id='nm3762501', job='utility stunts', characters=()), TitleName(name='Jeff Brockton', category='stunts', imdb_id='nm0110739', job='utility stunts', characters=()), TitleName(name='Jeff Chase', category='stunts', imdb_id='nm1106390', job='stunt actor: prisoner #1', characters=()), TitleName(name='Jeff Chase', category='stunts', imdb_id='nm1106390', job='utility stunts', characters=()), TitleName(name='Matt Cipro', category='stunts', imdb_id='nm4628170', job='stunt performer', characters=()), TitleName(name='Darren Cunningham', category='stunts', imdb_id='nm6215768', job='stunt driver', characters=()), TitleName(name='Joe Dryden', category='stunts', imdb_id='nm4259107', job='utility stunts', characters=()), TitleName(name='Andy Dylan', category='stunts', imdb_id='nm1314193', job='stunt coordinator', characters=()), TitleName(name='Brennan Fitzgerald-Lee', category='stunts', imdb_id='nm1061368', job='stunt actor: sacagawea', characters=()), TitleName(name='Jade Kindar-Martin', category='stunts', imdb_id='nm2085124', job='stunt rigger', characters=()), TitleName(name='Hayden Ethan Lee', category='stunts', imdb_id='nm1106589', job='utility stunts', characters=()), TitleName(name='Travis Locke', category='stunts', imdb_id='nm9058226', job='stunt actor: roman', characters=()), TitleName(name='Mike Mayhall', category='stunts', imdb_id='nm1977125', job='stunt actor: knight', characters=()), TitleName(name='Mark R. Miscione', category='stunts', imdb_id='nm3483920', job='Stunt Double: Beck Bennett', characters=()), TitleName(name='Mark R. Miscione', category='stunts', imdb_id='nm3483920', job='stunt double: deacon', characters=()), TitleName(name='T. Ryan Mooney', category='stunts', imdb_id='nm1968249', job='stunt double: bill', characters=()), TitleName(name='Eric Stratemeier', category='stunts', imdb_id='nm4067499', job='stunt actor: prisoner #2', characters=()), TitleName(name='Eric Stratemeier', category='stunts', imdb_id='nm4067499', job='stunts', characters=()), TitleName(name='Ned Yousef', category='stunts', imdb_id='nm2556455', job='stunts', characters=()), TitleName(name='Bianca Appice', category='make_up_department', imdb_id='nm3189477', job='makeup artist', characters=()), TitleName(name='Jeri Baker', category='make_up_department', imdb_id='nm0048572', job='personal hairstylist keanu reeves and alex winters', characters=()), TitleName(name='Budd Bird', category='make_up_department', imdb_id='nm2093852', job='key hair stylist', characters=()), TitleName(name='Bill Corso', category='make_up_department', imdb_id='nm0181134', job='makeup supervisor', characters=()), TitleName(name='Mitch Coughlin', category='make_up_department', imdb_id='nm1106589', job='shop supervisor', characters=()), TitleName(name='Lainey Dalton', category='make_up_department', imdb_id='nm1106389', job='makeup department assistant', characters=()), TitleName(name='Bailey Domke', category='make_up_department', imdb_id='nm4975349', job='makeup artist', characters=()), TitleName(name='Thomas Floutz', category='make_up_department', imdb_id='nm0283134', job='painter', characters=()), TitleName(name='Ulla Gaudin', category='make_up_department', imdb_id='nm1774106', job='hair stylist', characters=()), TitleName(name='Lee Gren', category='make_up_department', imdb_id='nm1297300', job='tattoo designer specialty tattoos: Tinsley Studio', characters=()), TitleName(name='Ursula Hawks', category='make_up_department', imdb_id='nm0911906', job='hair stylists', characters=()), TitleName(name='Tommy Hebert', category='make_up_department', imdb_id='nm8869521', job='lab technician', characters=()), TitleName(name='Anne James', category='make_up_department', imdb_id='nm1653941', job='hair stylist', characters=()), TitleName(name='Courtney Jarrell', category='make_up_department', imdb_id='nm4928830', job='makeup artist', characters=()), TitleName(name='Stephen Kelley', category='make_up_department', imdb_id='nm0445996', job='Makeup Artist For Mr. Reeves', characters=()), TitleName(name='Carol Koch', category='make_up_department', imdb_id='nm0462275', job='sculptor', characters=()), TitleName(name='Courtney Lether', category='make_up_department', imdb_id='nm2308772', job='makeup artist', characters=()), TitleName(name='Dennis Liddiard', category='make_up_department', imdb_id='nm0509187', job='key makeup artist', characters=()), TitleName(name='Annabelle MacNeal', category='make_up_department', imdb_id='nm0534087', job='makeup artist', characters=()), TitleName(name='Michelle Nyree', category='make_up_department', imdb_id='nm6334068', job='specialty hairwork', characters=()), TitleName(name='Meghan Reilly', category='make_up_department', imdb_id='nm6491804', job='lab technician', characters=()), TitleName(name='Jami Ross', category='make_up_department', imdb_id='nm1467620', job='makeup artist', characters=()), TitleName(name='Donna Spahn', category='make_up_department', imdb_id='nm0816642', job='hair department head', characters=()), TitleName(name='Danelle Vierkant', category='make_up_department', imdb_id='nm1848982', job='fabricator', characters=()), TitleName(name='Chris Yagher', category='make_up_department', imdb_id='nm0944893', job='special makeup effects', characters=()), TitleName(name='Chris Yagher', category='make_up_department', imdb_id='nm0944893', job='studio manager', characters=()), TitleName(name='Jeff Yagher', category='make_up_department', imdb_id='nm0944891', job='sculptor', characters=()), TitleName(name='Kevin Yagher', category='make_up_department', imdb_id='nm0944892', job='special makeup effects artist', characters=()), TitleName(name='Melanie Jones', category='production_designer', imdb_id='nm0656995', job=None, characters=()), TitleName(name='Emily Dolese', category='location_management', imdb_id='nm1049606', job='key assistant location manager', characters=()), TitleName(name='Jesse Michael Flaherty', category='location_management', imdb_id='nm5027940', job='location assistant', characters=()), TitleName(name='Tyler Hohmann', category='location_management', imdb_id='nm4446100', job='assistant location manager', characters=()), TitleName(name='Miles Labat', category='location_management', imdb_id='nm1106586', job='location assistant', characters=()), TitleName(name='Lisa Latter', category='location_management', imdb_id='nm3839323', job='location manager', characters=()), TitleName(name='Preston Trahan', category='location_management', imdb_id='nm0870647', job='location assistant', characters=()), TitleName(name='Theresa A. Young', category='location_management', imdb_id='nm2927299', job='location scout', characters=()), TitleName(name='Ray Bouderau', category='producer', imdb_id='nm8191721', job='executive producer', characters=()), TitleName(name='Courtney Chenn', category='producer', imdb_id='nm1080850', job='executive producer', characters=()), TitleName(name='Scott H. Cohen', category='producer', imdb_id='nm1072459', job='co-executive producer', characters=()), TitleName(name='Patrick W. Dugan', category='producer', imdb_id='nm4987894', job='executive producer', characters=()), TitleName(name='Scott Fischer', category='producer', imdb_id='nm1733151', job='executive producer', characters=()), TitleName(name='Grant Guthrie', category='producer', imdb_id='nm0349262', job='executive producer', characters=()), TitleName(name='David Haring', category='producer', imdb_id='nm9273762', job='producer', characters=()), TitleName(name='David Hillary', category='producer', imdb_id='nm0975187', job='co-producer', characters=()), TitleName(name='Scott Kroopf', category='producer', imdb_id='nm0472256', job='producer', characters=()), TitleName(name='Alex Lebovici', category='producer', imdb_id='nm3078006', job='producer', characters=()), TitleName(name='Waylen Lin', category='producer', imdb_id='nm6868064', job='co-executive producer', characters=()), TitleName(name='Christian Mercuri', category='producer', imdb_id='nm2351283', job='executive producer', characters=()), TitleName(name='Bella Pace', category='producer', imdb_id='nm8461525', job='co-executive producer', characters=()), TitleName(name='Steve Ponce', category='producer', imdb_id='nm5744805', job='producer', characters=()), TitleName(name='R. Scott Reid', category='producer', imdb_id='nm2285302', job='co-executive producer', characters=()), TitleName(name='John Ryan Jr.', category='producer', imdb_id='nm0752398', job='executive producer', characters=()), TitleName(name='John Santilli', category='producer', imdb_id='nm2530923', job='executive producer', characters=()), TitleName(name='Steven Soderbergh', category='producer', imdb_id='nm0001752', job='executive producer', characters=()), TitleName(name='Stephanie Weier', category='producer', imdb_id='nm0119904', job='co-executive producer', characters=()), TitleName(name='Chris Matheson', category='writer', imdb_id='nm0558533', job='written by', characters=()), TitleName(name='Ed Solomon', category='writer', imdb_id='nm0004412', job='written by', characters=()), TitleName(name='Pierre Buffin', category='visual_effects', imdb_id='nm0119376', job='visual effects executive producer', characters=()), TitleName(name='Elizabeth Chan', category='visual_effects', imdb_id='nm1106391', job='visual effects assistant', characters=()), TitleName(name='Jean-Louis Darville', category='visual_effects', imdb_id='nm2367059', job='visual effects supervisor', characters=()), TitleName(name='James Madigan', category='visual_effects', imdb_id='nm0534901', job='visual effects consultant', characters=()), TitleName(name='Nancy St. John', category='visual_effects', imdb_id='nm0820668', job='visual effects producer', characters=()), TitleName(name='Makana Sylva', category='visual_effects', imdb_id='nm3303254', job='visual effects producer', characters=()), TitleName(name='Jason Van Haverbeke', category='visual_effects', imdb_id='nm9302548', job='visual effects assistant', characters=()), TitleName(name='Katie Wells', category='visual_effects', imdb_id='nm2238247', job='visual effects executive producer', characters=()), TitleName(name='Aaron Collins', category='production_manager', imdb_id='nm4231274', job='production supervisor', characters=()), TitleName(name='David Hillary', category='production_manager', imdb_id='nm0975187', job='unit production manager', characters=()), TitleName(name='India Osborne', category='production_manager', imdb_id='nm2272572', job='Production Services', characters=()), TitleName(name='Michael J. Urann', category='production_manager', imdb_id='nm1913167', job='post-production supervisor', characters=()), TitleName(name='Allison Agler', category='costume_department', imdb_id='nm6280812', job='costumer', characters=()), TitleName(name='Heidi Bannon', category='costume_department', imdb_id='nm5108279', job='set costumer', characters=()), TitleName(name='Stacy Brewer', category='costume_department', imdb_id='nm7585475', job='set costumer', characters=()), TitleName(name='Stacy Brewer', category='costume_department', imdb_id='nm1106389', job='tailor', characters=()), TitleName(name='Chelsea Caldwell', category='costume_department', imdb_id='nm1001775', job='Costume Coordinator', characters=()), TitleName(name='Karen Clark', category='costume_department', imdb_id='nm5525680', job='seamstress', characters=()), TitleName(name='Gnatalie Crawford', category='costume_department', imdb_id='nm1035513', job='set costumer', characters=()), TitleName(name='Kalen Dawson', category='costume_department', imdb_id='nm2213159', job='background costumer', characters=()), TitleName(name='Clara Diaz', category='costume_department', imdb_id='nm7753301', job='tailor', characters=()), TitleName(name='Rebecca Diaz', category='costume_department', imdb_id='nm5160776', job='background costumer', characters=()), TitleName(name='Patricia Gorman', category='costume_department', imdb_id='nm1944887', job='background costumer', characters=()), TitleName(name='Michelle Hein', category='costume_department', imdb_id='nm9908229', job='costume assistant', characters=()), TitleName(name='Rachael Hranka', category='costume_department', imdb_id='nm5362252', job='background costumer', characters=()), TitleName(name='Marylou Lim', category='costume_department', imdb_id='nm0510574', job='assistant costume designer', characters=()), TitleName(name='Elizabeth Macey', category='costume_department', imdb_id='nm4231608', job='key costumer', characters=()), TitleName(name='Gayle Merindino', category='costume_department', imdb_id='nm2825928', job='head ager/dyer', characters=()), TitleName(name='Heather Rae Miller', category='costume_department', imdb_id='nm4988358', job='costumer', characters=()), TitleName(name='Steven Moreno', category='costume_department', imdb_id='nm1110897', job='costume/textile printer', characters=()), TitleName(name='Reena Ray', category='costume_department', imdb_id='nm5639902', job='costume assistant', characters=()), TitleName(name='Nicole Schmitt', category='costume_department', imdb_id='nm1106586', job='costume assistant', characters=()), TitleName(name='Kazli Sullivan', category='costume_department', imdb_id='nm7456814', job='head tailor', characters=()), TitleName(name='Leslie Sungail', category='costume_department', imdb_id='nm1273150', job='costume supervisor', characters=()), TitleName(name='Jade Thompson', category='costume_department', imdb_id='nm4708150', job='costume shopper', characters=())), directors=(TitleName(name='Dean Parisot', category='director', imdb_id='nm0661751', job=None, characters=()),), stars=(TitleName(name='Keanu Reeves', category='actor', imdb_id='nm0000206', job=None, characters=(\"Ted 'Theodore' Logan\",)), TitleName(name='Samara Weaving', category='actress', imdb_id='nm3034977', job=None, characters=('Thea Preston',)), TitleName(name='Brigette Lundy-Paine', category='actress', imdb_id='nm6617420', job=None, characters=('Billie Logan',)), TitleName(name='Jillian Bell', category='actress', imdb_id='nm3255459', job=None, characters=('Dr. Taylor Wood',))), image=Image(url='https://m.media-amazon.com/images/M/MV5BMzgyYTlhMGItZDZmMS00OTUxLTg3NDUtMTQwNGYyNjE0NDU1XkEyXkFqcGdeQXVyMzQzMDI5MDU@._V1_.jpg', width=1066, height=800), episodes=(), rating_count=0, releases=(TitleRelease(date=datetime.date(2020, 8, 21), region='BR'), TitleRelease(date=datetime.date(2020, 8, 21), region='GB'), TitleRelease(date=datetime.date(2020, 8, 21), region='US')), season=None, episode=None, rating=None, plot_outline=\"Once told they'd save the universe during a time-traveling adventure, 2 would-be rockers from San Dimas, California find themselves as middle-aged dads still trying to crank out a hit song and fulfill their destiny.\", release_date=datetime.date(2020, 8, 21), runtime=None)"
      ]
     },
     "execution_count": 16,
     "metadata": {},
     "output_type": "execute_result"
    }
   ],
   "source": [
    "imdb.get_title(keanu.filmography[4])"
   ]
  },
  {
   "cell_type": "code",
   "execution_count": 8,
   "metadata": {
    "ExecuteTime": {
     "end_time": "2019-11-25T22:19:16.033707Z",
     "start_time": "2019-11-25T22:08:15.966667Z"
    }
   },
   "outputs": [],
   "source": [
    "keanu_movies = []\n",
    "for x in keanu.filmography[:150]:\n",
    "    try: \n",
    "        movie = imdb.get_title(x)\n",
    "\n",
    "#         print(movie)\n",
    "        if movie.type != 'movie':\n",
    "            continue\n",
    "        keanu_movies.append(movie)\n",
    "    except LookupError:\n",
    "        continue\n"
   ]
  },
  {
   "cell_type": "code",
   "execution_count": 13,
   "metadata": {
    "ExecuteTime": {
     "end_time": "2019-11-25T18:49:11.680258Z",
     "start_time": "2019-11-25T18:49:11.648316Z"
    }
   },
   "outputs": [],
   "source": [
    "keanu_genres = []\n",
    "for x in keanu_movies:\n",
    "    keanu_genres += x.genres\n",
    "keanu_genres_string = ' '.join(keanu_genres)"
   ]
  },
  {
   "cell_type": "code",
   "execution_count": 14,
   "metadata": {
    "ExecuteTime": {
     "end_time": "2019-11-25T18:49:13.680857Z",
     "start_time": "2019-11-25T18:49:12.232492Z"
    }
   },
   "outputs": [],
   "source": [
    "from wordcloud import WordCloud, STOPWORDS, ImageColorGenerator\n",
    "import matplotlib.pyplot as plt"
   ]
  },
  {
   "cell_type": "code",
   "execution_count": 15,
   "metadata": {
    "ExecuteTime": {
     "end_time": "2019-11-25T18:49:15.576999Z",
     "start_time": "2019-11-25T18:49:13.683644Z"
    }
   },
   "outputs": [
    {
     "data": {
      "image/png": "[encoded data removed]",
      "text/plain": [
       "<Figure size 432x288 with 1 Axes>"
      ]
     },
     "metadata": {
      "needs_background": "light"
     },
     "output_type": "display_data"
    }
   ],
   "source": [
    "wordcloud = WordCloud(max_words=100, background_color=\"white\", height = 800, width = 1600).generate(keanu_genres_string)\n",
    "plt.imshow(wordcloud, interpolation='bilinear')\n",
    "plt.axis(\"off\")\n",
    "wordcloud.to_file(\"first_wordcloud.png\")\n",
    "plt.show()"
   ]
  },
  {
   "cell_type": "code",
   "execution_count": 21,
   "metadata": {
    "ExecuteTime": {
     "end_time": "2019-11-26T02:07:36.988775Z",
     "start_time": "2019-11-26T02:07:36.982797Z"
    }
   },
   "outputs": [
    {
     "data": {
      "text/plain": [
       "'Destination Wedding'"
      ]
     },
     "execution_count": 21,
     "metadata": {},
     "output_type": "execute_result"
    }
   ],
   "source": [
    "for x in keanu_movies"
   ]
  },
  {
   "cell_type": "code",
   "execution_count": 14,
   "metadata": {
    "ExecuteTime": {
     "end_time": "2019-11-26T01:40:12.013252Z",
     "start_time": "2019-11-26T01:40:12.003278Z"
    }
   },
   "outputs": [
    {
     "name": "stdout",
     "output_type": "stream",
     "text": [
      "None\n",
      "None\n",
      "None\n",
      "6.1\n",
      "7.9\n",
      "6.8\n",
      "7.6\n",
      "5.5\n",
      "6.0\n",
      "4.3\n",
      "3.3\n",
      "4.6\n",
      "7.5\n",
      "6.8\n",
      "5.3\n",
      "6.2\n",
      "6.2\n",
      "6.3\n",
      "4.3\n",
      "4.9\n",
      "7.4\n",
      "6.2\n",
      "6.1\n",
      "4.0\n",
      "6.0\n",
      "6.4\n",
      "5.5\n",
      "6.8\n",
      "6.8\n",
      "7.1\n",
      "7.0\n",
      "6.6\n",
      "5.7\n",
      "6.7\n",
      "6.7\n",
      "7.2\n",
      "6.4\n",
      "6.7\n",
      "6.6\n",
      "5.3\n",
      "6.6\n",
      "5.2\n",
      "8.7\n",
      "7.5\n",
      "5.6\n",
      "5.4\n",
      "5.7\n",
      "6.7\n",
      "5.7\n",
      "7.2\n",
      "6.1\n",
      "4.4\n",
      "7.3\n",
      "6.4\n",
      "7.4\n",
      "5.5\n",
      "7.1\n",
      "6.3\n",
      "7.3\n",
      "6.2\n",
      "6.4\n",
      "7.0\n",
      "6.9\n",
      "7.6\n",
      "5.8\n",
      "6.4\n",
      "6.4\n",
      "7.0\n",
      "5.2\n",
      "6.2\n",
      "None\n",
      "6.6\n"
     ]
    }
   ],
   "source": [
    "for x in keanu_movies:\n",
    "    print (x.rating)"
   ]
  },
  {
   "cell_type": "code",
   "execution_count": null,
   "metadata": {},
   "outputs": [],
   "source": [
    "import plotly.graph_objects as go\n",
    "\n",
    "fig = go.Figure(data=go.Scatterpolar(\n",
    "  r=[1, 5, 2, 2, 3],\n",
    "  theta=['processing cost','mechanical properties','chemical stability', 'thermal stability',\n",
    "           'device integration'],\n",
    "  fill='toself'\n",
    "))\n",
    "\n",
    "fig.update_layout(\n",
    "  polar=dict(\n",
    "    radialaxis=dict(\n",
    "      visible=True\n",
    "    ),\n",
    "  ),\n",
    "  showlegend=False\n",
    ")\n",
    "fig.title()\n",
    "fig.show()"
   ]
  },
  {
   "cell_type": "code",
   "execution_count": 8,
   "metadata": {},
   "outputs": [
    {
     "data": {
      "text/html": [
       "\n",
       "    <div style=\"background-color:#FFDDDD\">\n",
       "    <h2> Warning! </h2>\n",
       "    <p> This code below is meant to be an example of what you can do. <br>\n",
       "        It is not guaranteed to work always, and will need to be tweaked!\n",
       "    </p>\n",
       "    </div>\n"
      ],
      "text/plain": [
       "<IPython.core.display.HTML object>"
      ]
     },
     "metadata": {},
     "output_type": "display_data"
    }
   ],
   "source": [
    "html = \"\"\"\n",
    "    <div style=\"background-color:#FFDDDD\">\n",
    "    <h2> Warning! </h2>\n",
    "    <p> This code below is meant to be an example of what you can do. <br>\n",
    "        It is not guaranteed to work always, and will need to be tweaked!\n",
    "    </p>\n",
    "    </div>\n",
    "\"\"\"\n",
    "display(HTML(html))"
   ]
  },
  {
   "cell_type": "markdown",
   "metadata": {},
   "source": [
    "#### Box office numbers"
   ]
  },
  {
   "cell_type": "code",
   "execution_count": 15,
   "metadata": {
    "ExecuteTime": {
     "end_time": "2019-11-25T18:15:15.561355Z",
     "start_time": "2019-11-25T18:15:15.549576Z"
    }
   },
   "outputs": [],
   "source": [
    "import squarify"
   ]
  },
  {
   "cell_type": "code",
   "execution_count": 16,
   "metadata": {
    "ExecuteTime": {
     "end_time": "2019-11-25T18:58:29.708381Z",
     "start_time": "2019-11-25T18:58:29.693421Z"
    }
   },
   "outputs": [],
   "source": [
    "def total_earning (imdb_id):\n",
    "    # Fetch the box office numbers\n",
    "    base = 'https://www.boxofficemojo.com'\n",
    "    url = base + '/title/' + imdb_id\n",
    "    source = urllib.request.urlopen(url).read()\n",
    "    soup = BeautifulSoup(source,'lxml')\n",
    "    try:\n",
    "        table = soup('th', text=re.compile(r'Release Group'))[0].parent.parent\n",
    "        group = table.findAll('tr', recursive=False)[1].find('a').get('href')\n",
    "        url = base + group\n",
    "\n",
    "\n",
    "        # Get total earnings domestic and international\n",
    "        source = urllib.request.urlopen(url).read()\n",
    "        soup = BeautifulSoup(source,'lxml')\n",
    "        earnings = soup('h2', text=re.compile(r'Rollout'))[0].parent.parent.findAll('div')\n",
    "        total = earnings[3].find('span', {'class': 'money'}).get_text()\n",
    "        return total\n",
    "\n",
    "    except:\n",
    "        return 0"
   ]
  },
  {
   "cell_type": "code",
   "execution_count": 95,
   "metadata": {
    "ExecuteTime": {
     "end_time": "2019-11-25T08:19:43.880646Z",
     "start_time": "2019-11-25T08:19:43.868241Z"
    }
   },
   "outputs": [
    {
     "data": {
      "text/plain": [
       "1000"
      ]
     },
     "execution_count": 95,
     "metadata": {},
     "output_type": "execute_result"
    }
   ],
   "source": [
    "t = '$1,000'\n",
    "int((t[1:]).replace(',',''))"
   ]
  },
  {
   "cell_type": "code",
   "execution_count": 17,
   "metadata": {
    "ExecuteTime": {
     "end_time": "2019-11-25T19:00:41.757931Z",
     "start_time": "2019-11-25T18:58:34.588778Z"
    }
   },
   "outputs": [],
   "source": [
    "# movie_earnings = dict()\n",
    "genre_earnings = dict()\n",
    "for i in keanu_movies:\n",
    "    total = total_earning(i.imdb_id)\n",
    "#     print(total)\n",
    "    genres = i.genres\n",
    "    split = len(genres)\n",
    "    for g in genres:\n",
    "        if total == 0:\n",
    "            continue\n",
    "        if g not in genre_earnings:\n",
    "            genre_earnings.setdefault(g, 0)\n",
    "        else:\n",
    "#             print(total)\n",
    "            genre_earnings[g] += (int((total[1:]).replace(',',''))/split)"
   ]
  },
  {
   "cell_type": "code",
   "execution_count": 18,
   "metadata": {
    "ExecuteTime": {
     "end_time": "2019-11-25T19:00:41.769900Z",
     "start_time": "2019-11-25T19:00:41.761923Z"
    }
   },
   "outputs": [
    {
     "data": {
      "text/plain": [
       "{'animation': 1276609.0,\n",
       " 'adventure': 132520558.73333332,\n",
       " 'comedy': 219604219.48333335,\n",
       " 'family': 0,\n",
       " 'fantasy': 165341902.76666665,\n",
       " 'action': 1201152086.75,\n",
       " 'crime': 161948251.1666667,\n",
       " 'thriller': 416696791.6666667,\n",
       " 'drama': 563643037.0833334,\n",
       " 'sci-fi': 931060027.4,\n",
       " 'romance': 226658709.55000004,\n",
       " 'horror': 286414490.5,\n",
       " 'mystery': 133005681.83333334,\n",
       " 'sport': 30176716.833333332,\n",
       " 'biography': 0,\n",
       " 'western': 0,\n",
       " 'music': 8728054.133333333}"
      ]
     },
     "execution_count": 18,
     "metadata": {},
     "output_type": "execute_result"
    }
   ],
   "source": [
    "genre_earnings"
   ]
  },
  {
   "cell_type": "code",
   "execution_count": 19,
   "metadata": {
    "ExecuteTime": {
     "end_time": "2019-11-25T19:00:41.818768Z",
     "start_time": "2019-11-25T19:00:41.779873Z"
    }
   },
   "outputs": [
    {
     "data": {
      "text/plain": [
       "{'animation': 1276609.0,\n",
       " 'adventure': 132520558.73333332,\n",
       " 'comedy': 219604219.48333335,\n",
       " 'fantasy': 165341902.76666665,\n",
       " 'action': 1201152086.75,\n",
       " 'crime': 161948251.1666667,\n",
       " 'thriller': 416696791.6666667,\n",
       " 'drama': 563643037.0833334,\n",
       " 'sci-fi': 931060027.4,\n",
       " 'romance': 226658709.55000004,\n",
       " 'horror': 286414490.5,\n",
       " 'mystery': 133005681.83333334,\n",
       " 'sport': 30176716.833333332,\n",
       " 'music': 8728054.133333333}"
      ]
     },
     "execution_count": 19,
     "metadata": {},
     "output_type": "execute_result"
    }
   ],
   "source": [
    "genre_earnings.pop('family')\n",
    "genre_earnings.pop('biography')\n",
    "genre_earnings.pop('western')\n",
    "genre_earnings"
   ]
  },
  {
   "cell_type": "code",
   "execution_count": null,
   "metadata": {},
   "outputs": [],
   "source": [
    "# treemap of genres and their earnings\n",
    "# movies with multiple genres will have revenue split"
   ]
  },
  {
   "cell_type": "code",
   "execution_count": 2,
   "metadata": {
    "ExecuteTime": {
     "end_time": "2019-11-25T18:20:40.085963Z",
     "start_time": "2019-11-25T18:20:40.070609Z"
    }
   },
   "outputs": [
    {
     "ename": "NameError",
     "evalue": "name 'squarify' is not defined",
     "output_type": "error",
     "traceback": [
      "\u001b[1;31m---------------------------------------------------------------------------\u001b[0m",
      "\u001b[1;31mNameError\u001b[0m                                 Traceback (most recent call last)",
      "\u001b[1;32m<ipython-input-2-9c67bd07dc8a>\u001b[0m in \u001b[0;36m<module>\u001b[1;34m\u001b[0m\n\u001b[1;32m----> 1\u001b[1;33m \u001b[0msquarify\u001b[0m\u001b[1;33m.\u001b[0m\u001b[0mplot\u001b[0m\u001b[1;33m(\u001b[0m\u001b[0msizes\u001b[0m\u001b[1;33m=\u001b[0m\u001b[0mlist\u001b[0m\u001b[1;33m(\u001b[0m\u001b[0mgenre_earnings\u001b[0m\u001b[1;33m.\u001b[0m\u001b[0mvalues\u001b[0m\u001b[1;33m(\u001b[0m\u001b[1;33m)\u001b[0m\u001b[1;33m)\u001b[0m\u001b[1;33m,\u001b[0m \u001b[0mlabel\u001b[0m\u001b[1;33m=\u001b[0m\u001b[0mlist\u001b[0m\u001b[1;33m(\u001b[0m\u001b[0mgenre_earnings\u001b[0m\u001b[1;33m.\u001b[0m\u001b[0mkeys\u001b[0m\u001b[1;33m(\u001b[0m\u001b[1;33m)\u001b[0m\u001b[1;33m)\u001b[0m\u001b[1;33m,\u001b[0m \u001b[0malpha\u001b[0m\u001b[1;33m=\u001b[0m\u001b[1;36m.9\u001b[0m \u001b[1;33m)\u001b[0m\u001b[1;33m\u001b[0m\u001b[1;33m\u001b[0m\u001b[0m\n\u001b[0m\u001b[0;32m      2\u001b[0m \u001b[0mplt\u001b[0m\u001b[1;33m.\u001b[0m\u001b[0maxis\u001b[0m\u001b[1;33m(\u001b[0m\u001b[1;34m'off'\u001b[0m\u001b[1;33m)\u001b[0m\u001b[1;33m\u001b[0m\u001b[1;33m\u001b[0m\u001b[0m\n\u001b[0;32m      3\u001b[0m \u001b[0mfig\u001b[0m \u001b[1;33m=\u001b[0m \u001b[0mplt\u001b[0m\u001b[1;33m.\u001b[0m\u001b[0mfigure\u001b[0m\u001b[1;33m(\u001b[0m\u001b[0mfigsize\u001b[0m\u001b[1;33m=\u001b[0m\u001b[1;33m(\u001b[0m\u001b[1;36m50\u001b[0m\u001b[1;33m,\u001b[0m\u001b[1;36m50\u001b[0m\u001b[1;33m)\u001b[0m\u001b[1;33m)\u001b[0m\u001b[1;33m\u001b[0m\u001b[1;33m\u001b[0m\u001b[0m\n\u001b[0;32m      4\u001b[0m \u001b[0mplt\u001b[0m\u001b[1;33m.\u001b[0m\u001b[0msavefig\u001b[0m\u001b[1;33m(\u001b[0m\u001b[1;34m'treemap.png'\u001b[0m\u001b[1;33m)\u001b[0m\u001b[1;33m\u001b[0m\u001b[1;33m\u001b[0m\u001b[0m\n\u001b[0;32m      5\u001b[0m \u001b[1;33m\u001b[0m\u001b[0m\n",
      "\u001b[1;31mNameError\u001b[0m: name 'squarify' is not defined"
     ]
    }
   ],
   "source": [
    "squarify.plot(sizes=list(genre_earnings.values()), label=list(genre_earnings.keys()), alpha=.9 )\n",
    "plt.axis('off')\n",
    "fig = plt.figure(figsize=(75,50), dpi = 500)\n",
    "# plt.savefig('treemap.png')\n",
    "\n",
    "plt.show()\n",
    "\n"
   ]
  },
  {
   "cell_type": "code",
   "execution_count": 9,
   "metadata": {},
   "outputs": [
    {
     "name": "stdout",
     "output_type": "stream",
     "text": [
      "Total Domestic Earnings: $38,371,200\n",
      "Total International Earnings: $40,000,000\n",
      "Weekly Domestic Earnings:\n",
      "\tOct 26-Nov 1 \t: $5,560,930\n",
      "\tNov 2-8 \t: $5,752,018\n",
      "\tNov 9-15 \t: $4,764,277\n",
      "\tNov 16-22 \t: $5,208,881\n",
      "\tNov 23-29 \t: $4,851,910\n",
      "\tNov 30-Dec 6 \t: $3,741,759\n",
      "\tDec 7-13 \t: $2,002,925\n",
      "\tDec 14-20 \t: $1,399,646\n",
      "\tDec 21-27 \t: $722,260\n",
      "\tJan 11-17 \t: $752,723\n",
      "\tJan 18-24 \t: $618,670\n"
     ]
    }
   ],
   "source": [
    "# Let's experiment with Terminator\n",
    "imdb_id = 'tt0088247'\n",
    "\n",
    "# Fetch the box office numbers\n",
    "base = 'https://www.boxofficemojo.com'\n",
    "url = base + '/title/' + imdb_id\n",
    "source = urllib.request.urlopen(url).read()\n",
    "soup = BeautifulSoup(source,'lxml')\n",
    "\n",
    "table = soup('th', text=re.compile(r'Release Group'))[0].parent.parent\n",
    "group = table.findAll('tr', recursive=False)[1].find('a').get('href')\n",
    "url = base + group\n",
    "\n",
    "# Get total earnings domestic and international\n",
    "source = urllib.request.urlopen(url).read()\n",
    "soup = BeautifulSoup(source,'lxml')\n",
    "earnings = soup('h2', text=re.compile(r'Rollout'))[0].parent.parent.findAll('div')\n",
    "domestic = earnings[1].find('span', {'class': 'money'}).get_text()\n",
    "domestic_url = earnings[1].find('a').get('href')\n",
    "international = earnings[2].find('span', {'class': 'money'}).get_text()\n",
    "\n",
    "# Get weekly domestic earnings\n",
    "url = base + domestic_url\n",
    "url = url[:url.rfind('/')] + '/weekly/'\n",
    "source = urllib.request.urlopen(url).read()\n",
    "soup = BeautifulSoup(source,'lxml')\n",
    "table = soup.find('div', {'class':'a-section imdb-scroll-table-inner'}).findAll('tr')\n",
    "weekly = []\n",
    "for tr in table[1:]:\n",
    "    date = tr.findAll('td')[0].get_text()\n",
    "    earning = tr.findAll('td')[2].get_text()\n",
    "    weekly.append((date, earning))\n",
    "\n",
    "# Print the values we've just got!\n",
    "print(\"Total Domestic Earnings: %s\" % domestic)\n",
    "print(\"Total International Earnings: %s\" % international)\n",
    "print(\"Weekly Domestic Earnings:\")\n",
    "for date, earning in weekly:\n",
    "    print(\"\\t%s \\t: %s\" % (date, earning))"
   ]
  },
  {
   "cell_type": "markdown",
   "metadata": {},
   "source": [
    "## Other resources!"
   ]
  },
  {
   "cell_type": "markdown",
   "metadata": {},
   "source": [
    "This assignment doesn't have a restriction on where you can look for data.\n",
    "Further, we don't mind how you collect the data, or what data you collect.\n",
    "\n",
    "Here are some additional resources for this example, and you can customize it for your own!\n",
    "* Arnold Schwarzenegger Kill Count: https://www.youtube.com/watch?v=OE6jpTaOYMU\n",
    "* Arnold Schwarzenegger Top Quotes: https://www.youtube.com/watch?v=pDxn0Xfqkgw\n",
    "\n",
    "You could think about the IMDB network as a graph, with different actors connected through movies.\n",
    "\n",
    "Some other useful libraries/ databases:\n",
    "* IMDBPy\n",
    "* http://www.omdbapi.com/"
   ]
  }
 ],
 "metadata": {
  "kernelspec": {
   "display_name": "Python 3",
   "language": "python",
   "name": "python3"
  },
  "language_info": {
   "codemirror_mode": {
    "name": "ipython",
    "version": 3
   },
   "file_extension": ".py",
   "mimetype": "text/x-python",
   "name": "python",
   "nbconvert_exporter": "python",
   "pygments_lexer": "ipython3",
   "version": "3.7.3"
  },
  "toc": {
   "base_numbering": 1,
   "nav_menu": {},
   "number_sections": true,
   "sideBar": true,
   "skip_h1_title": false,
   "title_cell": "Table of Contents",
   "title_sidebar": "Contents",
   "toc_cell": false,
   "toc_position": {},
   "toc_section_display": true,
   "toc_window_display": false
  }
 },
 "nbformat": 4,
 "nbformat_minor": 2
}
